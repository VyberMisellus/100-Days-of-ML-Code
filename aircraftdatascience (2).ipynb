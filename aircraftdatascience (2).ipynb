{
  "nbformat": 4,
  "nbformat_minor": 0,
  "metadata": {
    "colab": {
      "name": "aircraftdatascience.ipynb",
      "version": "0.3.2",
      "provenance": []
    },
    "kernelspec": {
      "name": "python3",
      "display_name": "Python 3"
    },
    "accelerator": "TPU"
  },
  "cells": [
    {
      "metadata": {
        "colab_type": "text",
        "id": "zuZB2IIAWF8D"
      },
      "cell_type": "markdown",
      "source": [
        "# Aircraft Conceptual Design: A Data Science Approach\n",
        "This is a little 'back of the napkin' project that goes alongside a school project, but an interesting data-story that I thought needed sharing. This piece will go through the process of data gathering, cleaning, modelling, modelling some more, and a final answer to a question that I've had on my mind: Can a conceptual, statistical approach to design perform as well or better than the judgement of a human's own analysis of the same design problem?\n",
        "\n",
        "##The Problem Given\n",
        "With a certain set of requirements, such as mission-specific parameters, design an air taxi to satisfy all requirements, potentially optimizing for a specific subset of paramters, which are emphasized by the problem itself (i.e. safety, cost, efficiency, speed, fuel cost).\n",
        "The requirements are given below:\n",
        "\n",
        "Criteria | Requirements\n",
        "---|---\n",
        "Maximum take-off weight (MTOW) as per FAR 23 | 19,000 lbs (8597 kg)\n",
        "Reference mission |  • 50% passenger weight\n",
        "|• Warm up and taxi\n",
        "|• Take-off\n",
        "|• Climb\n",
        "|• Cruise\n",
        "|• Descend to sea level\n",
        "|• Land with sufficient fuel left to:\n",
        "|o Climb\n",
        "|o loiter for 45 min\n",
        "|o descend\n",
        "|o land\n",
        "|• Average cruise speed ≥ 180 kts\n",
        "|• Total range of ≥135 nm\n",
        "Long range sizing mission | • Full payload weight\n",
        "|• Take-off and land as for Reference mission\n",
        "|• Cruise for 250 nmi\n",
        "|• Reserve as for Reference Mission\n",
        "Service ceiling | • At least 7620 m (25,000 ft)\n",
        "Engine(s) | • Single or twin turbofan or turboprop\n",
        "|• If using reciprocating engines (e.g. piston) then \n",
        "|you must have two engines or incorporate a full \n",
        "|aircraft parachute into your design\n",
        "Take-off field length | • Takeoff over a 15 m (50 ft) obstacle in\n",
        "|less than 750 m (2500 ft)\n",
        "Landing field length | • 750 m (2500 ft) at MTOW\n",
        "Additional requirements | • Must be equipped with anti-icing and deicing capabilities for \n",
        "|Canadian operations\n",
        "##The Data Science Approach\n",
        "\n",
        "\n",
        "1.   Extract data from a main database, being the online Aircraft Bluebook\n",
        "2.   Given the raw data, extract and encode numerical parameters that algorithms like (numericize any common themes in description of properties, normalize everything for computational cleanliness)\n",
        "3. With the cleaned data, perform initial, low-cost analyses of the parameters (i.e. different clustering and dimensionality reduction algorithms)\n",
        "4. Based on the data, select a model(s) that best captures the behaviour of the data \n",
        "5. Compare models, evaluate trends in modelling accuracy\n",
        "6. Potentially tweak parameters and architectures to get a better model\n",
        "7. Try other, similar-use models to compare the evaluation of the primary model\n",
        "\n",
        "\n",
        "\n",
        "##1. Data Extraction\n",
        "First, go to the Aircraft Bluebook website and download all the data on their fixed-wing aircraft"
      ]
    },
    {
      "metadata": {
        "colab_type": "code",
        "id": "ac2yMMbUWEFK",
        "outputId": "950b47f8-903f-4e28-fe06-b2e5a61268cd",
        "colab": {
          "base_uri": "https://localhost:8080/",
          "height": 365
        }
      },
      "cell_type": "code",
      "source": [
        "#Import all modules needed\n",
        "from bs4 import BeautifulSoup\n",
        "from requests import get \n",
        "import pandas as pd\n",
        "import re\n",
        "import warnings\n",
        "warnings.filterwarnings(\"ignore\")\n",
        "\n",
        "#Use beautifulsoup to scrape web data\n",
        "soup = BeautifulSoup(get('https://aircraftbluebook.com/Tools/ABB/ShowSpecifications.do').text, 'html.parser')\n",
        "souper = soup.find_all('thead') #where the table header is \n",
        "plane_index = souper[0] #The specific table for aircraft\n",
        "head = plane_index.text.split('\\n')[2:-2] #Cleaning the blank entries\n",
        "header = [str(value) for value in head] #Converting to string\n",
        "\n",
        "souper = soup.find_all('tbody') #Looking for the raw data\n",
        "dataset = souper[0] #Using the data for aircraft\n",
        "\n",
        "x = [] #the data will be stored here\n",
        "for row in dataset.find_all('tr'): #Chunking through the html table in order to grab the necessary data\n",
        "    temp = row.find_all('td')\n",
        "    textlist = [] #The list of properties for every row in the table\n",
        "    i =0 #Used initially for skipping data that's meant to be strings (name, engine type)\n",
        "    for s in temp:\n",
        "        if i <2 : # Where the strings live in each row\n",
        "            textlist.append(str(s.text))\n",
        "        else: \n",
        "            textlist.append( re.sub(\"[^0-9]\", \"\", str(s.text).replace('/','.'))) #Some numerical properties have things like whether or not the aircraft is wet or dry, which isn't needed and not frequent in the data\n",
        "        i+=1 #Updating the index\n",
        "    if len(textlist) == 21: #Some rows in the table have single entries for the aircraft company, which isn't needed\n",
        "        \n",
        "        x.append(textlist)\n",
        "airframe = pd.DataFrame(data = x) #Create a dataframe for some descriptive statistics\n",
        "airframe.columns = head #Using the column labels from the table from the website\n",
        "airframe.head() #Show what the table is looking like\n",
        "\n"
      ],
      "execution_count": 0,
      "outputs": [
        {
          "output_type": "execute_result",
          "data": {
            "text/html": [
              "<div>\n",
              "<style scoped>\n",
              "    .dataframe tbody tr th:only-of-type {\n",
              "        vertical-align: middle;\n",
              "    }\n",
              "\n",
              "    .dataframe tbody tr th {\n",
              "        vertical-align: top;\n",
              "    }\n",
              "\n",
              "    .dataframe thead th {\n",
              "        text-align: right;\n",
              "    }\n",
              "</style>\n",
              "<table border=\"1\" class=\"dataframe\">\n",
              "  <thead>\n",
              "    <tr style=\"text-align: right;\">\n",
              "      <th></th>\n",
              "      <th>Model</th>\n",
              "      <th>Engine Type</th>\n",
              "      <th>HP or lbs thr ea engine</th>\n",
              "      <th>Max speed Knots</th>\n",
              "      <th>Rcmnd cruise Knots</th>\n",
              "      <th>Stall Knots dirty</th>\n",
              "      <th>Fuel gal/lbs</th>\n",
              "      <th>All eng service ceiling</th>\n",
              "      <th>Eng out service ceiling</th>\n",
              "      <th>All eng rate of climb</th>\n",
              "      <th>...</th>\n",
              "      <th>Takeoff over 50ft</th>\n",
              "      <th>Takeoff ground run</th>\n",
              "      <th>Landing over 50ft</th>\n",
              "      <th>Landing ground roll</th>\n",
              "      <th>Gross weight lbs</th>\n",
              "      <th>Empty weight lbs</th>\n",
              "      <th>Length ft/in</th>\n",
              "      <th>Height ft/in</th>\n",
              "      <th>Wing span ft/in</th>\n",
              "      <th>Range N.M.</th>\n",
              "    </tr>\n",
              "  </thead>\n",
              "  <tbody>\n",
              "    <tr>\n",
              "      <th>0</th>\n",
              "      <td>15 AC Sedan</td>\n",
              "      <td>Piston</td>\n",
              "      <td>145</td>\n",
              "      <td>104</td>\n",
              "      <td>91</td>\n",
              "      <td>46</td>\n",
              "      <td>36</td>\n",
              "      <td>13000</td>\n",
              "      <td></td>\n",
              "      <td>450</td>\n",
              "      <td>...</td>\n",
              "      <td>900</td>\n",
              "      <td></td>\n",
              "      <td>1300</td>\n",
              "      <td></td>\n",
              "      <td>2050</td>\n",
              "      <td>1180</td>\n",
              "      <td>253</td>\n",
              "      <td>103</td>\n",
              "      <td>375</td>\n",
              "      <td>370</td>\n",
              "    </tr>\n",
              "    <tr>\n",
              "      <th>1</th>\n",
              "      <td>11 CC Super Chief</td>\n",
              "      <td>Piston</td>\n",
              "      <td>85</td>\n",
              "      <td>89</td>\n",
              "      <td>83</td>\n",
              "      <td>44</td>\n",
              "      <td>15</td>\n",
              "      <td>12300</td>\n",
              "      <td></td>\n",
              "      <td>600</td>\n",
              "      <td>...</td>\n",
              "      <td>720</td>\n",
              "      <td></td>\n",
              "      <td>800</td>\n",
              "      <td></td>\n",
              "      <td>1350</td>\n",
              "      <td>820</td>\n",
              "      <td>207</td>\n",
              "      <td>89</td>\n",
              "      <td>361</td>\n",
              "      <td>190</td>\n",
              "    </tr>\n",
              "    <tr>\n",
              "      <th>2</th>\n",
              "      <td>7 CCM Champ</td>\n",
              "      <td>Piston</td>\n",
              "      <td>90</td>\n",
              "      <td>90</td>\n",
              "      <td>78</td>\n",
              "      <td>37</td>\n",
              "      <td>19</td>\n",
              "      <td>16000</td>\n",
              "      <td></td>\n",
              "      <td>650</td>\n",
              "      <td>...</td>\n",
              "      <td>475</td>\n",
              "      <td></td>\n",
              "      <td>850</td>\n",
              "      <td></td>\n",
              "      <td>1300</td>\n",
              "      <td>810</td>\n",
              "      <td>215</td>\n",
              "      <td>87</td>\n",
              "      <td>350</td>\n",
              "      <td>210</td>\n",
              "    </tr>\n",
              "    <tr>\n",
              "      <th>3</th>\n",
              "      <td>7 DC Champ</td>\n",
              "      <td>Piston</td>\n",
              "      <td>85</td>\n",
              "      <td>88</td>\n",
              "      <td>78</td>\n",
              "      <td>37</td>\n",
              "      <td>19</td>\n",
              "      <td>13000</td>\n",
              "      <td></td>\n",
              "      <td>620</td>\n",
              "      <td>...</td>\n",
              "      <td>500</td>\n",
              "      <td></td>\n",
              "      <td>850</td>\n",
              "      <td></td>\n",
              "      <td>1300</td>\n",
              "      <td>800</td>\n",
              "      <td>215</td>\n",
              "      <td>87</td>\n",
              "      <td>350</td>\n",
              "      <td>210</td>\n",
              "    </tr>\n",
              "    <tr>\n",
              "      <th>4</th>\n",
              "      <td>7 AC Champ</td>\n",
              "      <td>Piston</td>\n",
              "      <td>65</td>\n",
              "      <td>83</td>\n",
              "      <td>74</td>\n",
              "      <td>33</td>\n",
              "      <td>14</td>\n",
              "      <td>12500</td>\n",
              "      <td></td>\n",
              "      <td>370</td>\n",
              "      <td>...</td>\n",
              "      <td>632</td>\n",
              "      <td></td>\n",
              "      <td>885</td>\n",
              "      <td></td>\n",
              "      <td>1220</td>\n",
              "      <td>740</td>\n",
              "      <td>215</td>\n",
              "      <td>89</td>\n",
              "      <td>350</td>\n",
              "      <td>175</td>\n",
              "    </tr>\n",
              "  </tbody>\n",
              "</table>\n",
              "<p>5 rows × 21 columns</p>\n",
              "</div>"
            ],
            "text/plain": [
              "               Model Engine Type HP or lbs thr ea engine Max speed Knots  \\\n",
              "0        15 AC Sedan      Piston                     145             104   \n",
              "1  11 CC Super Chief      Piston                      85              89   \n",
              "2        7 CCM Champ      Piston                      90              90   \n",
              "3         7 DC Champ      Piston                      85              88   \n",
              "4         7 AC Champ      Piston                      65              83   \n",
              "\n",
              "  Rcmnd cruise Knots Stall Knots dirty Fuel gal/lbs All eng service ceiling  \\\n",
              "0                 91                46           36                   13000   \n",
              "1                 83                44           15                   12300   \n",
              "2                 78                37           19                   16000   \n",
              "3                 78                37           19                   13000   \n",
              "4                 74                33           14                   12500   \n",
              "\n",
              "  Eng out service ceiling All eng rate of climb    ...     Takeoff over 50ft  \\\n",
              "0                                           450    ...                   900   \n",
              "1                                           600    ...                   720   \n",
              "2                                           650    ...                   475   \n",
              "3                                           620    ...                   500   \n",
              "4                                           370    ...                   632   \n",
              "\n",
              "  Takeoff ground run Landing over 50ft Landing ground roll Gross weight lbs  \\\n",
              "0                                 1300                                 2050   \n",
              "1                                  800                                 1350   \n",
              "2                                  850                                 1300   \n",
              "3                                  850                                 1300   \n",
              "4                                  885                                 1220   \n",
              "\n",
              "  Empty weight lbs Length ft/in Height ft/in Wing span ft/in Range N.M.  \n",
              "0             1180          253          103             375        370  \n",
              "1              820          207           89             361        190  \n",
              "2              810          215           87             350        210  \n",
              "3              800          215           87             350        210  \n",
              "4              740          215           89             350        175  \n",
              "\n",
              "[5 rows x 21 columns]"
            ]
          },
          "metadata": {
            "tags": []
          },
          "execution_count": 1
        }
      ]
    },
    {
      "metadata": {
        "id": "DJttp1BgRq9x",
        "colab_type": "text"
      },
      "cell_type": "markdown",
      "source": [
        "Looks like everything got scraped successfully. Now, it is time to numericize the engine types so that algorithms can factor in the engine type as well. Since this is the first question I want to answer, I need to make sure the engine datatypes are in the right form. \n",
        "\n",
        "##2. Cleaning Data\n",
        "\n",
        "With the data gathered, it's time for some cleaning. Namely, re-labeling the engine types to numerical codes. That way, any descriptive statistics can give an average, and any model using the engine types as labels can do just that."
      ]
    },
    {
      "metadata": {
        "id": "x-g-J25IdVx6",
        "colab_type": "code",
        "outputId": "213e4e8e-fe7a-45f6-ba2e-136998259688",
        "colab": {
          "base_uri": "https://localhost:8080/",
          "height": 1401
        }
      },
      "cell_type": "code",
      "source": [
        "thrusts = set(airframe['Engine Type']) #Get all listed engine types\n",
        "\n",
        "#Turns out there are some typos in the labels, but that is easily fixed\n",
        "airframe = airframe.replace(['Piston','Pistion','piston'],1)\n",
        "airframe = airframe.replace(['Propjet'],2)\n",
        "airframe = airframe.replace(['Jet'],3)\n",
        "airframe = airframe.replace(['', 'PT6A-21','IO550','PT6A-35','TSIO 520'],0)\n",
        "\n",
        "#Get rid of some redundant properties\n",
        "condensed = airframe.drop(['Max speed Knots', 'Stall Knots dirty','Fuel gal/lbs', 'Eng out service ceiling','Eng out rate of climb', 'Takeoff ground run', 'Landing ground roll'], axis = 1)\n",
        "#Making a list of the condensed column names\n",
        "connames = list(condensed.columns.values)\n",
        "\n",
        "#Chunking through the data and converting the numerical values to floats (from strings)\n",
        "for entry in connames[1:]:\n",
        "    condensed[entry] = condensed[entry].astype(float)\n",
        "for entry in connames[-4:-1]: #Modifying the annotations in the last set of columns by converting to the correct dimensions\n",
        "    condensed[entry] /= 10\n",
        "for state in list(condensed.columns.values)[1:]:\n",
        "  \n",
        "  condensed = condensed[condensed[state] > 0]\n",
        "print(condensed.describe()) #Time for some descriptive statistics\n",
        "condensed.hist()#Get some example histograms"
      ],
      "execution_count": 0,
      "outputs": [
        {
          "output_type": "stream",
          "text": [
            "       Engine Type  HP or lbs thr ea engine  Rcmnd cruise Knots  \\\n",
            "count   588.000000               588.000000          588.000000   \n",
            "mean      1.319728               757.340136          194.365646   \n",
            "std       0.662825              1628.358739           97.980636   \n",
            "min       1.000000                65.000000           65.000000   \n",
            "25%       1.000000               188.750000          130.750000   \n",
            "50%       1.000000               260.000000          168.500000   \n",
            "75%       1.000000               380.000000          216.250000   \n",
            "max       3.000000             13850.000000          511.000000   \n",
            "\n",
            "       All eng service ceiling  All eng rate of climb  Takeoff over 50ft  \\\n",
            "count               588.000000             588.000000         588.000000   \n",
            "mean              22813.340136            1613.137755        1945.234694   \n",
            "std                9608.472511            1328.154042        1069.280482   \n",
            "min                 850.000000             360.000000         350.000000   \n",
            "25%               15800.000000             883.750000        1320.000000   \n",
            "50%               20000.000000            1200.000000        1632.500000   \n",
            "75%               28000.000000            1684.000000        2170.000000   \n",
            "max               51000.000000           11673.000000        6400.000000   \n",
            "\n",
            "       Landing over 50ft  Gross weight lbs  Empty weight lbs  Length ft/in  \\\n",
            "count         588.000000        588.000000        588.000000    588.000000   \n",
            "mean         1645.056122       6651.030612       3909.454082     61.480612   \n",
            "std           676.622471       8813.108950       4882.257782     99.555874   \n",
            "min           350.000000       1220.000000        680.000000     19.200000   \n",
            "25%          1215.000000       2599.750000       1563.750000     25.100000   \n",
            "50%          1471.500000       3600.000000       2218.000000     28.300000   \n",
            "75%          1944.500000       7000.000000       4430.250000     39.675000   \n",
            "max          4850.000000      75000.000000      42500.000000    791.100000   \n",
            "\n",
            "       Height ft/in  Wing span ft/in   Range N.M.  \n",
            "count    588.000000       588.000000   588.000000  \n",
            "mean      18.180782        98.624830   865.841837  \n",
            "std       28.482708       139.410934   607.364071  \n",
            "min        5.100000        16.000000   117.000000  \n",
            "25%        8.200000        35.000000   515.000000  \n",
            "50%        9.600000        37.150000   695.000000  \n",
            "75%       13.925000        49.500000  1006.250000  \n",
            "max      221.100000       771.000000  4420.000000  \n"
          ],
          "name": "stdout"
        },
        {
          "output_type": "execute_result",
          "data": {
            "text/plain": [
              "array([[<matplotlib.axes._subplots.AxesSubplot object at 0x7f6609eacb38>,\n",
              "        <matplotlib.axes._subplots.AxesSubplot object at 0x7f66096806d8>,\n",
              "        <matplotlib.axes._subplots.AxesSubplot object at 0x7f6609628dd8>,\n",
              "        <matplotlib.axes._subplots.AxesSubplot object at 0x7f66095d9518>],\n",
              "       [<matplotlib.axes._subplots.AxesSubplot object at 0x7f66095fec18>,\n",
              "        <matplotlib.axes._subplots.AxesSubplot object at 0x7f66095fec50>,\n",
              "        <matplotlib.axes._subplots.AxesSubplot object at 0x7f6609555a20>,\n",
              "        <matplotlib.axes._subplots.AxesSubplot object at 0x7f6609586160>],\n",
              "       [<matplotlib.axes._subplots.AxesSubplot object at 0x7f660952b860>,\n",
              "        <matplotlib.axes._subplots.AxesSubplot object at 0x7f66094d1f60>,\n",
              "        <matplotlib.axes._subplots.AxesSubplot object at 0x7f66095026a0>,\n",
              "        <matplotlib.axes._subplots.AxesSubplot object at 0x7f66094a9da0>],\n",
              "       [<matplotlib.axes._subplots.AxesSubplot object at 0x7f66094594e0>,\n",
              "        <matplotlib.axes._subplots.AxesSubplot object at 0x7f660947fbe0>,\n",
              "        <matplotlib.axes._subplots.AxesSubplot object at 0x7f6609431320>,\n",
              "        <matplotlib.axes._subplots.AxesSubplot object at 0x7f66093d6a20>]],\n",
              "      dtype=object)"
            ]
          },
          "metadata": {
            "tags": []
          },
          "execution_count": 2
        },
        {
          "output_type": "display_data",
          "data": {
            "image/png": "[encoded data removed]",
            "text/plain": [
              "<Figure size 576x396 with 16 Axes>"
            ]
          },
          "metadata": {
            "tags": []
          }
        }
      ]
    },
    {
      "metadata": {
        "id": "o0Z0RmR6qspc",
        "colab_type": "text"
      },
      "cell_type": "markdown",
      "source": [
        "##3. Simple Modelling\n",
        "Now, to create a PCA and covariance ranking instance to see if any general trends exist within the data:"
      ]
    },
    {
      "metadata": {
        "id": "MPHBqVDIr0qt",
        "colab_type": "code",
        "outputId": "70278282-6b1c-4088-fe09-8358a3455c15",
        "colab": {
          "base_uri": "https://localhost:8080/",
          "height": 488
        }
      },
      "cell_type": "code",
      "source": [
        "from sklearn.decomposition import PCA\n",
        "from sklearn.preprocessing import StandardScaler\n",
        "import matplotlib.pyplot as plt\n",
        "import seaborn as sb\n",
        "\n",
        "data_ = airframe.drop(['Model'], axis = 1)\n",
        "\n",
        "\n",
        "def PCAPlt(condensed,graphing):\n",
        "  \n",
        "  features = ['Rcmnd cruise Knots','All eng service ceiling','Takeoff over 50ft','Landing over 50ft','Gross weight lbs','Range N.M.','Engine Type']\n",
        "  \n",
        "  #______________PCA MODEL\n",
        "  plt.figure(1)\n",
        "  #Plotting setup\n",
        "  sb.set_style('white')\n",
        "  customPalette = ['#630C3A', '#39C8C6', '#D3500C','#000000']\n",
        "  sb.set_palette(customPalette)\n",
        "  sb.palplot(customPalette)\n",
        "\n",
        "  #scaling and fitting data\n",
        "  airscaler = StandardScaler()\n",
        "  air_norm = airscaler.fit(graphing[features])\n",
        "  air_std = air_norm.transform(graphing[features])\n",
        "  pca = PCA(n_components=2)\n",
        "  pca.fit(airscaler.transform(condensed[features]))\n",
        "  air2d = pca.transform(air_std)\n",
        "  \n",
        "\n",
        "  #Concatenating data with labels\n",
        "  labels = graphing['Engine Type']\n",
        "  print(labels.shape)\n",
        "  data = pd.DataFrame(air2d, columns = ['x','y'], index=labels.index)\n",
        "  print(data.shape)\n",
        "  data = pd.concat([data,labels], axis = 1)\n",
        "\n",
        "  #Plotting \n",
        "  facet = sb.lmplot(data=data, x='x',y='y', hue = 'Engine Type',fit_reg=False, legend=True, legend_out=True)\n",
        "\n",
        "  return\n",
        "PCAPlt(condensed,condensed)"
      ],
      "execution_count": 0,
      "outputs": [
        {
          "output_type": "stream",
          "text": [
            "(588,)\n",
            "(588, 2)\n"
          ],
          "name": "stdout"
        },
        {
          "output_type": "display_data",
          "data": {
            "text/plain": [
              "<Figure size 576x396 with 0 Axes>"
            ]
          },
          "metadata": {
            "tags": []
          }
        },
        {
          "output_type": "display_data",
          "data": {
            "image/png": "[encoded data removed]",
            "text/plain": [
              "<Figure size 288x72 with 1 Axes>"
            ]
          },
          "metadata": {
            "tags": []
          }
        },
        {
          "output_type": "display_data",
          "data": {
            "image/png": "[encoded data removed]",
            "text/plain": [
              "<Figure size 420.875x360 with 1 Axes>"
            ]
          },
          "metadata": {
            "tags": []
          }
        }
      ]
    },
    {
      "metadata": {
        "id": "RsaFowWmNddf",
        "colab_type": "text"
      },
      "cell_type": "markdown",
      "source": [
        "##4,5,6: Genetic Algorithms\n",
        "Looks like the data could be potentially clustered based on engine type. This is a good sign because it means that there is potentially a machine learning model out there that is able to figure out which engine type to use for the requirements. However, the data overlaps a bit, which adds to the complexity of the problem. Since a solution isn't immediately apparent, there is always the option of using **genetic algorithms** to figure out which model will best describe the data. The whole model selection, testing, and tweaking is automated by the genetic algorithms' evolution. All that has to be done is to feed it data, and it will spit out a jewel of a model... Ideally. \n",
        "\n",
        ">>>>>>>>Let's rock"
      ]
    },
    {
      "metadata": {
        "id": "RIdLuyZD4wNA",
        "colab_type": "code",
        "outputId": "a0188daf-61c1-464e-e7b4-3fe33e7e5602",
        "colab": {
          "base_uri": "https://localhost:8080/",
          "height": 345
        }
      },
      "cell_type": "code",
      "source": [
        "#Import the libraries\n",
        "!pip install tpot xgboost\n",
        "from tpot import TPOTClassifier #Using the TPOT library for regression \n",
        "import numpy as np\n",
        "import tensorflow as tf\n",
        "\n",
        "x = data_[['Rcmnd cruise Knots','All eng service ceiling','Takeoff over 50ft','Landing over 50ft','Gross weight lbs','Range N.M.']] #Using features that the mission requirements outline\n",
        "y = data_[['Engine Type']] #The label is engine type, since that's what is trying to be figured out\n",
        "\n",
        "X = np.array(StandardScaler().fit_transform(x)) #Scaling the data for better modeling\n",
        "Y = np.array(y) #this block separate from the TPOT fit below, so that this cell can declare variables without waiting for TPOT to finish"
      ],
      "execution_count": 0,
      "outputs": [
        {
          "output_type": "stream",
          "text": [
            "Requirement already satisfied: tpot in /usr/local/lib/python3.6/dist-packages (0.9.5)\n",
            "Requirement already satisfied: xgboost in /usr/local/lib/python3.6/dist-packages (0.7.post4)\n",
            "Requirement already satisfied: update-checker>=0.16 in /usr/local/lib/python3.6/dist-packages (from tpot) (0.16)\n",
            "Requirement already satisfied: deap>=1.0 in /usr/local/lib/python3.6/dist-packages (from tpot) (1.2.2)\n",
            "Requirement already satisfied: pandas>=0.20.2 in /usr/local/lib/python3.6/dist-packages (from tpot) (0.22.0)\n",
            "Requirement already satisfied: numpy>=1.12.1 in /usr/local/lib/python3.6/dist-packages (from tpot) (1.14.6)\n",
            "Requirement already satisfied: scipy>=0.19.0 in /usr/local/lib/python3.6/dist-packages (from tpot) (1.1.0)\n",
            "Requirement already satisfied: stopit>=1.1.1 in /usr/local/lib/python3.6/dist-packages (from tpot) (1.1.2)\n",
            "Requirement already satisfied: scikit-learn>=0.18.1 in /usr/local/lib/python3.6/dist-packages (from tpot) (0.20.2)\n",
            "Requirement already satisfied: tqdm>=4.11.2 in /usr/local/lib/python3.6/dist-packages (from tpot) (4.28.1)\n",
            "Requirement already satisfied: requests>=2.3.0 in /usr/local/lib/python3.6/dist-packages (from update-checker>=0.16->tpot) (2.18.4)\n",
            "Requirement already satisfied: pytz>=2011k in /usr/local/lib/python3.6/dist-packages (from pandas>=0.20.2->tpot) (2018.9)\n",
            "Requirement already satisfied: python-dateutil>=2 in /usr/local/lib/python3.6/dist-packages (from pandas>=0.20.2->tpot) (2.5.3)\n",
            "Requirement already satisfied: certifi>=2017.4.17 in /usr/local/lib/python3.6/dist-packages (from requests>=2.3.0->update-checker>=0.16->tpot) (2018.11.29)\n",
            "Requirement already satisfied: chardet<3.1.0,>=3.0.2 in /usr/local/lib/python3.6/dist-packages (from requests>=2.3.0->update-checker>=0.16->tpot) (3.0.4)\n",
            "Requirement already satisfied: idna<2.7,>=2.5 in /usr/local/lib/python3.6/dist-packages (from requests>=2.3.0->update-checker>=0.16->tpot) (2.6)\n",
            "Requirement already satisfied: urllib3<1.23,>=1.21.1 in /usr/local/lib/python3.6/dist-packages (from requests>=2.3.0->update-checker>=0.16->tpot) (1.22)\n",
            "Requirement already satisfied: six>=1.5 in /usr/local/lib/python3.6/dist-packages (from python-dateutil>=2->pandas>=0.20.2->tpot) (1.11.0)\n"
          ],
          "name": "stdout"
        }
      ]
    },
    {
      "metadata": {
        "id": "0_Hxq8YbYaQC",
        "colab_type": "code",
        "outputId": "fcf17b3e-60ab-4dad-b4b9-05db3d7f09a7",
        "colab": {
          "base_uri": "https://localhost:8080/",
          "height": 244
        }
      },
      "cell_type": "code",
      "source": [
        "tpot = TPOTClassifier(generations=6, verbosity=2)\n",
        "tpot.fit(X, Y)\n",
        "print(tpot.score(X,Y))\n",
        "\n",
        "\n"
      ],
      "execution_count": 1,
      "outputs": [
        {
          "output_type": "error",
          "ename": "NameError",
          "evalue": "ignored",
          "traceback": [
            "\u001b[0;31m---------------------------------------------------------------------------\u001b[0m",
            "\u001b[0;31mNameError\u001b[0m                                 Traceback (most recent call last)",
            "\u001b[0;32m<ipython-input-1-5e9986ac340f>\u001b[0m in \u001b[0;36m<module>\u001b[0;34m()\u001b[0m\n\u001b[0;32m----> 1\u001b[0;31m \u001b[0mtpot\u001b[0m \u001b[0;34m=\u001b[0m \u001b[0mTPOTClassifier\u001b[0m\u001b[0;34m(\u001b[0m\u001b[0mgenerations\u001b[0m\u001b[0;34m=\u001b[0m\u001b[0;36m6\u001b[0m\u001b[0;34m,\u001b[0m \u001b[0mverbosity\u001b[0m\u001b[0;34m=\u001b[0m\u001b[0;36m2\u001b[0m\u001b[0;34m)\u001b[0m\u001b[0;34m\u001b[0m\u001b[0;34m\u001b[0m\u001b[0m\n\u001b[0m\u001b[1;32m      2\u001b[0m \u001b[0mtpot\u001b[0m\u001b[0;34m.\u001b[0m\u001b[0mfit\u001b[0m\u001b[0;34m(\u001b[0m\u001b[0mX\u001b[0m\u001b[0;34m,\u001b[0m \u001b[0mY\u001b[0m\u001b[0;34m)\u001b[0m\u001b[0;34m\u001b[0m\u001b[0;34m\u001b[0m\u001b[0m\n\u001b[1;32m      3\u001b[0m \u001b[0mprint\u001b[0m\u001b[0;34m(\u001b[0m\u001b[0mtpot\u001b[0m\u001b[0;34m.\u001b[0m\u001b[0mscore\u001b[0m\u001b[0;34m(\u001b[0m\u001b[0mX\u001b[0m\u001b[0;34m,\u001b[0m\u001b[0mY\u001b[0m\u001b[0;34m)\u001b[0m\u001b[0;34m)\u001b[0m\u001b[0;34m\u001b[0m\u001b[0;34m\u001b[0m\u001b[0m\n\u001b[1;32m      4\u001b[0m \u001b[0;34m\u001b[0m\u001b[0m\n\u001b[1;32m      5\u001b[0m \u001b[0;34m\u001b[0m\u001b[0m\n",
            "\u001b[0;31mNameError\u001b[0m: name 'TPOTClassifier' is not defined"
          ]
        }
      ]
    },
    {
      "metadata": {
        "id": "tCDskqb5QUYx",
        "colab_type": "text"
      },
      "cell_type": "markdown",
      "source": [
        "Looks good! Now, let's try the suggested model on the mission requirements to see which engine should be used. The approach here is to vary the parameters for a certain range, given that the initial requirements are only maxima/minima, and improvements upon the requirements aren't outside the realm of possibility. Therefore, it might be a good idea to explore an *area* of the subspace to see how much the results change."
      ]
    },
    {
      "metadata": {
        "id": "_X4-0BvQQpoI",
        "colab_type": "code",
        "outputId": "51b709bb-d0f9-4a5e-9a6b-120d3e20d38b",
        "colab": {
          "base_uri": "https://localhost:8080/",
          "height": 363
        }
      },
      "cell_type": "code",
      "source": [
        "from sklearn.ensemble import RandomForestClassifier, GradientBoostingClassifier, ExtraTreesClassifier #Using the suggested classifier\n",
        "from sklearn.preprocessing import MaxAbsScaler, PolynomialFeatures\n",
        "from sklearn.pipeline import make_pipeline\n",
        "from yellowbrick.contrib.classifier import DecisionViz\n",
        "from xgboost.sklearn import XGBClassifier\n",
        "\n",
        "#Creating a data pipeline\n",
        "\n",
        "pipe = make_pipeline(\n",
        "  MaxAbsScaler(),\n",
        "  PCA(n_components = 2),\n",
        "  PolynomialFeatures(degree=2, include_bias=False, interaction_only=False),\n",
        "  ExtraTreesClassifier(bootstrap=True, criterion='gini', max_features=0.45, min_samples_leaf=1, min_samples_split=20, n_estimators=100)\n",
        "\n",
        ")\n",
        "pipe.fit(x,y)\n",
        "\n",
        "RFclassifier = RandomForestClassifier(bootstrap=True, criterion='gini', max_features=0.4, min_samples_leaf=3, min_samples_split=2, n_estimators=100)\n",
        "RFclassifier.fit(x,y) \n",
        "\n",
        "#Iterating through the space to consider nearby possibilities, as well as to perform a model-sensitivity analysis\n",
        "\n",
        "def missions(classifier):\n",
        "  projections = []\n",
        "  for i in range(5): #Getting 5 samples within the subspace of the requirements, varying each point independently to get \n",
        "    for j in range(5):\n",
        "      for k in range(5):\n",
        "        for l in range(5):\n",
        "          for m in range(5):\n",
        "            requirements = np.array([180+24*i,25000+1000*j, 750-90*k,750-90*k,7000-600*l,135+380*m]).reshape(1,-1)\n",
        "            pred = classifier.predict(requirements)[0]\n",
        "            projections.append([pred, 180+24*i,25000+1000*j, 750-90*k,750-90*k,7000-600*l,135+380*m])\n",
        "  pro = pd.DataFrame(projections)\n",
        "  conLabels = ['Engine Type','Rcmnd cruise Knots','All eng service ceiling','Takeoff over 50ft','Landing over 50ft','Gross weight lbs','Range N.M.']\n",
        "  pro.columns = conLabels\n",
        "  print(pro.describe())\n",
        "  return\n",
        "  \n",
        "missions(pipe)"
      ],
      "execution_count": 0,
      "outputs": [
        {
          "output_type": "stream",
          "text": [
            "       Engine Type  Rcmnd cruise Knots  All eng service ceiling  \\\n",
            "count       3125.0         3125.000000              3125.000000   \n",
            "mean           1.0          228.000000             27000.000000   \n",
            "std            0.0           33.946557              1414.439891   \n",
            "min            1.0          180.000000             25000.000000   \n",
            "25%            1.0          204.000000             26000.000000   \n",
            "50%            1.0          228.000000             27000.000000   \n",
            "75%            1.0          252.000000             28000.000000   \n",
            "max            1.0          276.000000             29000.000000   \n",
            "\n",
            "       Takeoff over 50ft  Landing over 50ft  Gross weight lbs   Range N.M.  \n",
            "count         3125.00000         3125.00000       3125.000000  3125.000000  \n",
            "mean           570.00000          570.00000       5800.000000   895.000000  \n",
            "std            127.29959          127.29959        848.663935   537.487159  \n",
            "min            390.00000          390.00000       4600.000000   135.000000  \n",
            "25%            480.00000          480.00000       5200.000000   515.000000  \n",
            "50%            570.00000          570.00000       5800.000000   895.000000  \n",
            "75%            660.00000          660.00000       6400.000000  1275.000000  \n",
            "max            750.00000          750.00000       7000.000000  1655.000000  \n"
          ],
          "name": "stdout"
        }
      ]
    },
    {
      "metadata": {
        "id": "aIKP6-6kS510",
        "colab_type": "text"
      },
      "cell_type": "markdown",
      "source": [
        "It turns out, in fact, that a variation of the parameters shows the model to not be sensitive at all in this region. Interesting. \n",
        "\n",
        "Also, referring to a classifier comparison, and taking a look at the PCA plot, there are a couple models that might also be tested to see what their predictions are, so that way the engine selection is based on a series of different model mechanics and evalutations. Observe the classifier 'methods'  in the photo below, [provided on the sklearn website](https://scikit-learn.org/stable/auto_examples/classification/plot_classifier_comparison.html):\n",
        "\n",
        "![alt text](https://scikit-learn.org/stable/_images/sphx_glr_plot_classifier_comparison_001.png)\n",
        "Based on the trends in the analysis above, it is clear the best classifiers for the aircraft data to be, visually, K-nearest-neighbors, and \n",
        "##7. Making Sure\n",
        "Let's see where our requirements fall on the plot, hey?"
      ]
    },
    {
      "metadata": {
        "id": "UsnfTZitw1oT",
        "colab_type": "code",
        "outputId": "6196c3ee-d5a2-4547-83db-00104a3ed9fd",
        "colab": {
          "base_uri": "https://localhost:8080/",
          "height": 488
        }
      },
      "cell_type": "code",
      "source": [
        "req = pd.DataFrame([[4, 180,25000, 750,750,7000,135]])\n",
        "req.columns = ['Engine Type','Rcmnd cruise Knots','All eng service ceiling','Takeoff over 50ft','Landing over 50ft','Gross weight lbs','Range N.M.']\n",
        "PCAPlt(condensed, pd.concat([condensed,req]))"
      ],
      "execution_count": 0,
      "outputs": [
        {
          "output_type": "stream",
          "text": [
            "(589,)\n",
            "(589, 2)\n"
          ],
          "name": "stdout"
        },
        {
          "output_type": "display_data",
          "data": {
            "text/plain": [
              "<Figure size 576x396 with 0 Axes>"
            ]
          },
          "metadata": {
            "tags": []
          }
        },
        {
          "output_type": "display_data",
          "data": {
            "image/png": "[encoded data removed]",
            "text/plain": [
              "<Figure size 288x72 with 1 Axes>"
            ]
          },
          "metadata": {
            "tags": []
          }
        },
        {
          "output_type": "display_data",
          "data": {
            "image/png": "[encoded data removed]",
            "text/plain": [
              "<Figure size 420.875x360 with 1 Axes>"
            ]
          },
          "metadata": {
            "tags": []
          }
        }
      ]
    },
    {
      "metadata": {
        "id": "Gjgq5NqC5wpd",
        "colab_type": "text"
      },
      "cell_type": "markdown",
      "source": [
        "With that black dot being the mission requirements, it looks like a jet engine might not be the best prediction, which occasionally happens. This particular problem is hard for a decision tree model, since it prefers separating things into nice boxes of labels, rather that try to make a prediction on a set of values that are more 'out there.'\n",
        "\n",
        "The pipeline is leaning towards a jet engine configuration, but the plot would suggest something like a piston or turboprop configuratoin. Better use a few different models to see what can be seen and compare. Next will be k-nearest-neighbors, which uses the kth number of datapoints nearby and weighs all the values. Of course there is no set number of k, since too low a 'k' will increase variance and too high a 'k' will increase bias. Why not plug through a bunch of different k values and see what we can see?"
      ]
    },
    {
      "metadata": {
        "id": "lYK6-eyA43hV",
        "colab_type": "code",
        "outputId": "7f63946c-4bce-4c63-dc52-2c17ea922fb7",
        "colab": {
          "base_uri": "https://localhost:8080/",
          "height": 217
        }
      },
      "cell_type": "code",
      "source": [
        "from sklearn.neural_network import MLPClassifier\n",
        "from sklearn.neighbors import KNeighborsClassifier\n",
        "from sklearn.svm import SVC\n",
        "from sklearn.gaussian_process import GaussianProcessClassifier\n",
        "from sklearn.gaussian_process.kernels import RBF\n",
        "from sklearn.tree import DecisionTreeClassifier\n",
        "from sklearn.ensemble import RandomForestClassifier, AdaBoostClassifier\n",
        "from sklearn.naive_bayes import GaussianNB\n",
        "from sklearn.discriminant_analysis import QuadraticDiscriminantAnalysis\n",
        "\n",
        "def quickFit(x,y,np_reqs):\n",
        "    classifiers = {\n",
        "            \"Nearest Neighbors\": KNeighborsClassifier(10),\n",
        "            \"Linear SVM\": SVC(kernel=\"linear\", C=0.025),\n",
        "            \"RBF SVM\": SVC(gamma=2, C=1),\n",
        "            \"Gaussian Process\": GaussianProcessClassifier(1.0 * RBF(1.0)),\n",
        "            \"Decision Tree\": DecisionTreeClassifier(max_depth=5),\n",
        "            \"Random Forest\": RandomForestClassifier(max_depth=5, n_estimators=10, max_features=1),\n",
        "            \"Neural Net\": MLPClassifier(alpha=1),\n",
        "            \"AdaBoost\": AdaBoostClassifier(),\n",
        "            \"Naive Bayes\": GaussianNB(),\n",
        "            \"QDA\":QuadraticDiscriminantAnalysis()}\n",
        "    classScore = []\n",
        "    for model in classifiers.keys():\n",
        "        classifiers[model].fit(x,y)\n",
        "        print(model, ': ',classifiers[model].predict(np_reqs)[0])\n",
        "        classScore.append(classifiers[model].predict( np_reqs)[0])\n",
        "    return classScore\n",
        "print(quickFit(x,y, np.array([180,25000, 750,750,7000,135]).reshape(1,-1)))\n",
        "\n",
        "\n"
      ],
      "execution_count": 0,
      "outputs": [
        {
          "output_type": "stream",
          "text": [
            "Nearest Neighbors :  1\n",
            "Linear SVM :  1\n",
            "RBF SVM :  1\n",
            "Gaussian Process :  2\n",
            "Decision Tree :  1\n",
            "Random Forest :  1\n",
            "Neural Net :  1\n",
            "AdaBoost :  1\n",
            "Naive Bayes :  1\n",
            "QDA :  1\n",
            "[1, 1, 1, 2, 1, 1, 1, 1, 1, 1]\n"
          ],
          "name": "stdout"
        }
      ]
    },
    {
      "metadata": {
        "id": "iQ_5BWfCk5gC",
        "colab_type": "text"
      },
      "cell_type": "markdown",
      "source": [
        "The sudden spike from a 'jet' classification to a 'piston' classification could be due to an interesting bias phenomenon, where the area the higher-k models are pulling from is the one that is closer to the target, which happens to also have tighter clusters compared to the 'jet' data. Taking a look at the PCA plot, it isn't hard to tell how closely-packed the 'piston' datapoints are compared to the 'jet' datapoints. \n",
        "\n",
        "But how about applying the same technique as before with random forest predictions on requirements in the same window?"
      ]
    },
    {
      "metadata": {
        "id": "NICMFWdOBtQN",
        "colab_type": "code",
        "outputId": "7d7c126f-2ab8-4a01-947b-14e987039c60",
        "colab": {
          "base_uri": "https://localhost:8080/",
          "height": 726
        }
      },
      "cell_type": "code",
      "source": [
        "requirements = {'Rcmnd cruise Knots':180,'All eng service ceiling':25000, 'Takeoff over 50ft':750,'Landing over 50ft':750,'Gross weight lbs':7000,'Range N.M.':135}\n",
        "req_keys = list(requirements.keys())\n",
        "\n",
        "cruised = condensed[condensed['Rcmnd cruise Knots'] >= 180]\n",
        "served = cruised[cruised['All eng service ceiling'] >= 25000]\n",
        "takeoff = served[served['Takeoff over 50ft'] <= 750]\n",
        "landing = takeoff[takeoff['Landing over 50ft'] <= 750]\n",
        "gross = landing[landing['Gross weight lbs'] <= 19000]\n",
        "ranged = gross[gross['Range N.M.'] >= 135]\n",
        "print(ranged.describe())"
      ],
      "execution_count": 0,
      "outputs": [
        {
          "output_type": "stream",
          "text": [
            "       Engine Type  HP or lbs thr ea engine  Rcmnd cruise Knots  \\\n",
            "count          0.0                      0.0                 0.0   \n",
            "mean           NaN                      NaN                 NaN   \n",
            "std            NaN                      NaN                 NaN   \n",
            "min            NaN                      NaN                 NaN   \n",
            "25%            NaN                      NaN                 NaN   \n",
            "50%            NaN                      NaN                 NaN   \n",
            "75%            NaN                      NaN                 NaN   \n",
            "max            NaN                      NaN                 NaN   \n",
            "\n",
            "       All eng service ceiling  All eng rate of climb  Takeoff over 50ft  \\\n",
            "count                      0.0                    0.0                0.0   \n",
            "mean                       NaN                    NaN                NaN   \n",
            "std                        NaN                    NaN                NaN   \n",
            "min                        NaN                    NaN                NaN   \n",
            "25%                        NaN                    NaN                NaN   \n",
            "50%                        NaN                    NaN                NaN   \n",
            "75%                        NaN                    NaN                NaN   \n",
            "max                        NaN                    NaN                NaN   \n",
            "\n",
            "       Landing over 50ft  Gross weight lbs  Empty weight lbs  Length ft/in  \\\n",
            "count                0.0               0.0               0.0           0.0   \n",
            "mean                 NaN               NaN               NaN           NaN   \n",
            "std                  NaN               NaN               NaN           NaN   \n",
            "min                  NaN               NaN               NaN           NaN   \n",
            "25%                  NaN               NaN               NaN           NaN   \n",
            "50%                  NaN               NaN               NaN           NaN   \n",
            "75%                  NaN               NaN               NaN           NaN   \n",
            "max                  NaN               NaN               NaN           NaN   \n",
            "\n",
            "       Height ft/in  Wing span ft/in  Range N.M.  \n",
            "count           0.0              0.0         0.0  \n",
            "mean            NaN              NaN         NaN  \n",
            "std             NaN              NaN         NaN  \n",
            "min             NaN              NaN         NaN  \n",
            "25%             NaN              NaN         NaN  \n",
            "50%             NaN              NaN         NaN  \n",
            "75%             NaN              NaN         NaN  \n",
            "max             NaN              NaN         NaN  \n"
          ],
          "name": "stdout"
        }
      ]
    },
    {
      "metadata": {
        "id": "Pd7pbGkkEA8K",
        "colab_type": "text"
      },
      "cell_type": "markdown",
      "source": [
        "Yikes, it turns out no aircraft satisfy any of the requirements. This makes sense, though, since  a quick look at the PCA plot would clearly indicate a large distance from all data points. All models considered, it would seem the best bet is a piston engine. However, what if I wanted to design an aircraft that was a bit better at what it's supposed to do?"
      ]
    },
    {
      "metadata": {
        "id": "TghK-tM3CmDT",
        "colab_type": "code",
        "outputId": "d9d23e89-7439-4475-ac88-d0e2062ad250",
        "colab": {
          "base_uri": "https://localhost:8080/",
          "height": 706
        }
      },
      "cell_type": "code",
      "source": [
        "req = pd.DataFrame([[4,  1.5*180, 1.5*25000,  .5*750,.5*750,1.5*7000,5*135]])\n",
        "req.columns = ['Engine Type','Rcmnd cruise Knots','All eng service ceiling','Takeoff over 50ft','Landing over 50ft','Gross weight lbs','Range N.M.']\n",
        "PCAPlt(condensed, pd.concat([condensed,req]))\n",
        "\n",
        "print(quickFit(x,y, np.array([1.5*180, 1.5*25000,  .5*750,.5*750,1.5*7000,5*135]).reshape(1,-1)))\n",
        "print(pipe.predict(np.array([1.5*180, 1.5*25000,  .5*750,.5*750,1.5*7000,5*135]).reshape(1,-1)))"
      ],
      "execution_count": 0,
      "outputs": [
        {
          "output_type": "stream",
          "text": [
            "(589,)\n",
            "(589, 2)\n",
            "Nearest Neighbors :  2\n",
            "Linear SVM :  3\n",
            "RBF SVM :  1\n",
            "Gaussian Process :  2\n",
            "Decision Tree :  2\n",
            "Random Forest :  2\n",
            "Neural Net :  1\n",
            "AdaBoost :  2\n",
            "Naive Bayes :  2\n",
            "QDA :  2\n",
            "[2, 3, 1, 2, 2, 2, 1, 2, 2, 2]\n",
            "[1]\n"
          ],
          "name": "stdout"
        },
        {
          "output_type": "display_data",
          "data": {
            "text/plain": [
              "<Figure size 576x396 with 0 Axes>"
            ]
          },
          "metadata": {
            "tags": []
          }
        },
        {
          "output_type": "display_data",
          "data": {
            "image/png": "[encoded data removed]",
            "text/plain": [
              "<Figure size 288x72 with 1 Axes>"
            ]
          },
          "metadata": {
            "tags": []
          }
        },
        {
          "output_type": "display_data",
          "data": {
            "image/png": "[encoded data removed]",
            "text/plain": [
              "<Figure size 420.875x360 with 1 Axes>"
            ]
          },
          "metadata": {
            "tags": []
          }
        }
      ]
    },
    {
      "metadata": {
        "id": "TZA9EGMZzeLE",
        "colab_type": "text"
      },
      "cell_type": "markdown",
      "source": [
        "A quick analysis of the suggestions gives back mostly a turboprop configuration. Consultation with a university aircraft design textbook led to the same design conclusion. \n",
        "\n",
        "# Conclusion\n",
        "Given the unbiased process of data extraction, modelling, and statistical reasoning, an automation for dimensional analysis and prediction could potentially aid a designer in their statistically-based trade studies. "
      ]
    }
  ]
}